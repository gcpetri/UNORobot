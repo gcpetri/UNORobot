{
 "cells": [
  {
   "cell_type": "code",
   "execution_count": 1,
   "metadata": {},
   "outputs": [],
   "source": [
    "# 1\n",
    "# library imports\n",
    "import tensorflow as tf\n",
    "import numpy as np\n",
    "import pandas as pd\n",
    "from math import floor\n",
    "import cv2\n",
    "import matplotlib.pyplot as plt\n",
    "import random as rd\n",
    "import os\n",
    "import zipfile\n",
    "from tqdm import tqdm"
   ]
  },
  {
   "cell_type": "code",
   "execution_count": 2,
   "metadata": {},
   "outputs": [],
   "source": [
    "# for disorting images insead of using a manually created class\n",
    "from tensorflow.keras.preprocessing.image import ImageDataGenerator"
   ]
  },
  {
   "cell_type": "code",
   "execution_count": 3,
   "metadata": {},
   "outputs": [],
   "source": [
    "pathZIP = \"C:\\\\Users\\\\gcpet\\\\Documents\\\\TamuCollege\\\\Card_ML\\\\test.zip\"\n",
    "pathEXT = \"C:\\\\Users\\\\gcpet\\\\Documents\\\\TamuCollege\\\\Card_ML\\\\extracted\"\n",
    "# unzipping the file of all card pictures\n",
    "zippath = zipfile.ZipFile(pathZIP, 'r')\n",
    "zippath.extractall(pathEXT)\n",
    "zippath.close()"
   ]
  },
  {
   "cell_type": "code",
   "execution_count": 4,
   "metadata": {},
   "outputs": [
    {
     "name": "stdout",
     "output_type": "stream",
     "text": [
      "c10.jpg\n",
      "c2.jpg\n",
      "c3.jpg\n",
      "c4.jpg\n",
      "c5.jpg\n",
      "c6.jpg\n",
      "c7.jpg\n",
      "c8.jpg\n",
      "c9.jpg\n",
      "cA.jpg\n",
      "cJ.jpg\n",
      "cK.jpg\n",
      "cQ.jpg\n",
      "d10.jpg\n",
      "d2.jpg\n",
      "d3.jpg\n",
      "d4.jpg\n",
      "d5.jpg\n",
      "d6.jpg\n",
      "d7.jpg\n",
      "d8.jpg\n",
      "d9.jpg\n",
      "dA.jpg\n",
      "dJ.jpg\n",
      "dK.jpg\n",
      "dQ.jpg\n",
      "h10.jpg\n",
      "h2.jpg\n",
      "h3.jpg\n",
      "h4.jpg\n",
      "h5.jpg\n",
      "h6.jpg\n",
      "h7.jpg\n",
      "h8.jpg\n",
      "h9.jpg\n",
      "hA.jpg\n",
      "hJ.jpg\n",
      "hK.jpg\n",
      "hQ.jpg\n",
      "s10.jpg\n",
      "s2.jpg\n",
      "s3.jpg\n",
      "s4.jpg\n",
      "s5.jpg\n",
      "s6.jpg\n",
      "s7.jpg\n",
      "s8.jpg\n",
      "s9.jpg\n",
      "sA.jpg\n",
      "sJ.jpg\n",
      "sK.jpg\n",
      "sQ.jpg\n"
     ]
    }
   ],
   "source": [
    "def last_char(x):\n",
    "  return x[0:2]\n",
    "files = os.listdir(pathEXT)\n",
    "files = sorted(files, key=last_char)\n",
    "for i in files:\n",
    "  print(i)"
   ]
  },
  {
   "cell_type": "code",
   "execution_count": 5,
   "metadata": {},
   "outputs": [
    {
     "name": "stderr",
     "output_type": "stream",
     "text": [
      "52it [01:46,  2.05s/it]"
     ]
    },
    {
     "name": "stdout",
     "output_type": "stream",
     "text": [
      "['c10.jpg', 'c2.jpg', 'c3.jpg', 'c4.jpg', 'c5.jpg', 'c6.jpg', 'c7.jpg', 'c8.jpg', 'c9.jpg', 'cA.jpg', 'cJ.jpg', 'cK.jpg', 'cQ.jpg', 'd10.jpg', 'd2.jpg', 'd3.jpg', 'd4.jpg', 'd5.jpg', 'd6.jpg', 'd7.jpg', 'd8.jpg', 'd9.jpg', 'dA.jpg', 'dJ.jpg', 'dK.jpg', 'dQ.jpg', 'h10.jpg', 'h2.jpg', 'h3.jpg', 'h4.jpg', 'h5.jpg', 'h6.jpg', 'h7.jpg', 'h8.jpg', 'h9.jpg', 'hA.jpg', 'hJ.jpg', 'hK.jpg', 'hQ.jpg', 's10.jpg', 's2.jpg', 's3.jpg', 's4.jpg', 's5.jpg', 's6.jpg', 's7.jpg', 's8.jpg', 's9.jpg', 'sA.jpg', 'sJ.jpg', 'sK.jpg', 'sQ.jpg']\n"
     ]
    },
    {
     "name": "stderr",
     "output_type": "stream",
     "text": [
      "\n"
     ]
    }
   ],
   "source": [
    "# get all 52 pictures and transform them\n",
    "data = []\n",
    "names = []\n",
    "for f, img in tqdm(enumerate(files)):\n",
    "  names.append(img)\n",
    "  img = cv2.imread(pathEXT+\"\\\\\"+img, cv2.IMREAD_GRAYSCALE)\n",
    "  img = cv2.resize(img, (180,180))\n",
    "  imgs = img.reshape((1, img.shape[0], img.shape[1], 1))\n",
    "  img_data = ImageDataGenerator(rotation_range=60, brightness_range=(0.5, 1.2), shear_range=15.0, zoom_range=0.0)\n",
    "  img_data.fit(imgs)\n",
    "  img_iterator = img_data.flow(imgs)\n",
    "  for x in range(750):\n",
    "    img_transformed = img_iterator.next()[0].astype('int')/255\n",
    "    data.append([img_transformed, f])\n",
    "rd.shuffle(data)\n",
    "print(names)"
   ]
  },
  {
   "cell_type": "code",
   "execution_count": 15,
   "metadata": {},
   "outputs": [],
   "source": [
    "dataNPY = np.array(data, dtype=object)"
   ]
  },
  {
   "cell_type": "code",
   "execution_count": 16,
   "metadata": {},
   "outputs": [],
   "source": [
    "pathNPY = \"C:\\\\Users\\\\gcpet\\\\Documents\\\\TamuCollege\\\\Card_ML\\\\\"\n",
    "np.save(pathNPY+'data.npy', dataNPY)"
   ]
  },
  {
   "cell_type": "code",
   "execution_count": null,
   "metadata": {},
   "outputs": [],
   "source": []
  }
 ],
 "metadata": {
  "kernelspec": {
   "display_name": "Python 3",
   "language": "python",
   "name": "python3"
  },
  "language_info": {
   "codemirror_mode": {
    "name": "ipython",
    "version": 3
   },
   "file_extension": ".py",
   "mimetype": "text/x-python",
   "name": "python",
   "nbconvert_exporter": "python",
   "pygments_lexer": "ipython3",
   "version": "3.8.5"
  }
 },
 "nbformat": 4,
 "nbformat_minor": 4
}
